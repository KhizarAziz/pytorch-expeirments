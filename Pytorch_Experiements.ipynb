{
  "nbformat": 4,
  "nbformat_minor": 0,
  "metadata": {
    "colab": {
      "name": "Pytorch-Experiements.ipynb",
      "provenance": [],
      "collapsed_sections": [
        "K-Vim8daMrvZ",
        "OaIuLGsWoFPE",
        "T5kysTKVrsiu",
        "3kNhlC7e1uaA",
        "wN58SXslr9ap",
        "ghSI6IM5sBqJ",
        "YN2W1UuZukzH",
        "BNsZR9N_ZrNp",
        "O8yove4cIZQr"
      ],
      "authorship_tag": "ABX9TyPCZhGNtq/FSrg/L4rv6mgQ",
      "include_colab_link": true
    },
    "kernelspec": {
      "name": "python3",
      "display_name": "Python 3"
    },
    "accelerator": "GPU"
  },
  "cells": [
    {
      "cell_type": "markdown",
      "metadata": {
        "id": "view-in-github",
        "colab_type": "text"
      },
      "source": [
        "<a href=\"https://colab.research.google.com/github/KhizarAziz/pytorch-expeirments/blob/main/Pytorch_Experiements.ipynb\" target=\"_parent\"><img src=\"https://colab.research.google.com/assets/colab-badge.svg\" alt=\"Open In Colab\"/></a>"
      ]
    },
    {
      "cell_type": "code",
      "metadata": {
        "id": "9pgWwJFomiJ8"
      },
      "source": [
        "import numpy as np\n",
        "np.random.seed(0)\n",
        "import matplotlib.pyplot as plt\n",
        "import pandas as pd\n",
        "import cv2\n",
        "import os\n",
        "import torch\n",
        "import time\n",
        "torch.manual_seed(0)\n",
        "import torchvision\n",
        "from torch import nn\n",
        "from torch.utils.data import Dataset,DataLoader\n",
        "from torchvision import utils,transforms"
      ],
      "execution_count": null,
      "outputs": []
    },
    {
      "cell_type": "code",
      "metadata": {
        "id": "SPdDGY0lJOJ8"
      },
      "source": [
        "device = ('cuda' if torch.cuda.is_available() else 'cpu')\n",
        "device"
      ],
      "execution_count": null,
      "outputs": []
    },
    {
      "cell_type": "markdown",
      "metadata": {
        "id": "K-Vim8daMrvZ"
      },
      "source": [
        "# **Download Dataset**"
      ]
    },
    {
      "cell_type": "code",
      "metadata": {
        "id": "QOfE_B7sA1Jf"
      },
      "source": [
        "# download dataset\n",
        "!wget https://s3.amazonaws.com/fast-ai-imageclas/oxford-102-flowers.tgz\n",
        "#extract\n",
        "!tar -xvf oxford-102-flowers.tgz"
      ],
      "execution_count": null,
      "outputs": []
    },
    {
      "cell_type": "markdown",
      "metadata": {
        "id": "OaIuLGsWoFPE"
      },
      "source": [
        "# **Preprocess Dataset**"
      ]
    },
    {
      "cell_type": "code",
      "metadata": {
        "id": "2sLFy_2Emu0G"
      },
      "source": [
        "# Creating Custom Dataset from this class\n",
        "class FlowersDataset(Dataset):\n",
        "  def __init__(self,root_dir,data_csv,transform=None):\n",
        "    self.root_dir = root_dir\n",
        "\n",
        "    self.data_csv = pd.read_csv(data_csv,sep=\" \", header=None)\n",
        "    self.data_csv.columns = [\"imgPath\", \"id\"] \n",
        "    self.transform = transform\n",
        "\n",
        "  def __len__(self):\n",
        "    return len(self.data_csv)\n",
        "\n",
        "  def __getitem__(self,idx):\n",
        "    image_path = os.path.join(self.root_dir,self.data_csv.iloc[idx,0])\n",
        "\n",
        "    img = cv2.imread(image_path)\n",
        "    img_class = self.data_csv.iloc[idx,1]\n",
        "    if self.transform:\n",
        "      tranformed_img = self.transform(img)\n",
        "    \n",
        "\n",
        "    single_row_dict_obj = {'image':tranformed_img,'class':img_class}\n",
        "    return single_row_dict_obj\n"
      ],
      "execution_count": null,
      "outputs": []
    },
    {
      "cell_type": "code",
      "metadata": {
        "id": "i_WzQai97G5M"
      },
      "source": [
        "#defining transforms\n",
        "std = 0.5\n",
        "mean = 0.5\n",
        "tfms = transforms.Compose([transforms.ToTensor(),\n",
        "                           transforms.Resize((224,224)),\n",
        "                             transforms.Normalize(mean,std)])"
      ],
      "execution_count": null,
      "outputs": []
    },
    {
      "cell_type": "code",
      "metadata": {
        "id": "1VWpft086l7W"
      },
      "source": [
        "dataset_dir = '/content/oxford-102-flowers/'\n",
        "#Training DataLoader\n",
        "meta_csv = '/content/oxford-102-flowers/train.txt'\n",
        "trainDataset = FlowersDataset(dataset_dir,meta_csv,tfms)\n",
        "trainLoader = DataLoader(trainDataset,batch_size=64,shuffle=True)\n",
        "\n",
        "# Validation DataLoader\n",
        "meta_csv = '/content/oxford-102-flowers/valid.txt'\n",
        "valDataset = FlowersDataset(dataset_dir,meta_csv,tfms)\n",
        "valLoader = DataLoader(valDataset,batch_size=64,shuffle=True)\n",
        "\n",
        "# Test DataLoader\n",
        "meta_csv = '/content/oxford-102-flowers/test.txt'\n",
        "testDataset = FlowersDataset(dataset_dir,meta_csv,tfms)\n",
        "testLoader = DataLoader(testDataset,batch_size=64,shuffle=True)"
      ],
      "execution_count": null,
      "outputs": []
    },
    {
      "cell_type": "markdown",
      "metadata": {
        "id": "T5kysTKVrsiu"
      },
      "source": [
        "# **Define Model**"
      ]
    },
    {
      "cell_type": "code",
      "metadata": {
        "id": "MAQc41C0I5pJ"
      },
      "source": [
        "model = torchvision.models.resnet34(pretrained=True)"
      ],
      "execution_count": null,
      "outputs": []
    },
    {
      "cell_type": "markdown",
      "metadata": {
        "id": "3kNhlC7e1uaA"
      },
      "source": [
        "# **Freeze Initial Layers**"
      ]
    },
    {
      "cell_type": "code",
      "metadata": {
        "id": "tjb280NS1_iH"
      },
      "source": [
        "# freezing network\n",
        "for param in model.parameters():\n",
        "  param.requires_grad = False\n",
        "print(next(iter(model.layer4.parameters())).requires_grad)\n",
        "print(next(iter(model.fc.parameters())).requires_grad)"
      ],
      "execution_count": null,
      "outputs": []
    },
    {
      "cell_type": "markdown",
      "metadata": {
        "id": "wN58SXslr9ap"
      },
      "source": [
        "# **Unfreeze Full Model**"
      ]
    },
    {
      "cell_type": "code",
      "metadata": {
        "id": "v_avdCAksAz4"
      },
      "source": [
        "# freezing network\n",
        "for param in model.parameters():\n",
        "  param.requires_grad = True\n",
        "print(next(iter(model.layer4.parameters())).requires_grad)\n",
        "print(next(iter(model.fc.parameters())).requires_grad)"
      ],
      "execution_count": null,
      "outputs": []
    },
    {
      "cell_type": "markdown",
      "metadata": {
        "id": "ghSI6IM5sBqJ"
      },
      "source": [
        "# **Train**"
      ]
    },
    {
      "cell_type": "code",
      "metadata": {
        "id": "09S7v8I42z-4"
      },
      "source": [
        "#modifying top to spit out 102 categories -> as our dataset has 102 possible catergories\n",
        "model.fc = nn.Linear(in_features=512, out_features=102, bias=True)\n",
        "print(next(iter(model.layer4.parameters())).requires_grad)\n",
        "print(next(iter(model.fc.parameters())).requires_grad)"
      ],
      "execution_count": null,
      "outputs": []
    },
    {
      "cell_type": "code",
      "metadata": {
        "colab": {
          "base_uri": "https://localhost:8080/"
        },
        "id": "w0R2v1TDI8LX",
        "outputId": "10169d2c-f092-40db-89d3-f8ccea9bf327"
      },
      "source": [
        "print(next(iter(model.layer4.parameters())).requires_grad)\n",
        "print(next(iter(model.fc.parameters())).requires_grad)"
      ],
      "execution_count": 11,
      "outputs": [
        {
          "output_type": "stream",
          "text": [
            "False\n",
            "True\n"
          ],
          "name": "stdout"
        }
      ]
    },
    {
      "cell_type": "code",
      "metadata": {
        "id": "HS9HEqFf-F94"
      },
      "source": [
        "#loading to gpu\n",
        "model = model.to(device)"
      ],
      "execution_count": null,
      "outputs": []
    },
    {
      "cell_type": "code",
      "metadata": {
        "id": "GL9yU9s0JJPx"
      },
      "source": [
        "loss_func = nn.CrossEntropyLoss()\n",
        "lr = 0.02\n",
        "optimizer = torch.optim.Adam(model.parameters(),lr=lr)"
      ],
      "execution_count": null,
      "outputs": []
    },
    {
      "cell_type": "code",
      "metadata": {
        "id": "FbP95nlx8DeX"
      },
      "source": [
        "accuracy_tracker = []"
      ],
      "execution_count": 14,
      "outputs": []
    },
    {
      "cell_type": "code",
      "metadata": {
        "id": "ohCSpThb7ebX"
      },
      "source": [
        "total_epochs = 10\n",
        "start_time = time.time()\n",
        "\n",
        "for epoch in range(total_epochs):\n",
        "  batch_loss = 0\n",
        "  for batch,sample_dict in enumerate(trainLoader):\n",
        "    images = sample_dict['image']\n",
        "    labels = sample_dict['class']\n",
        "    images =images.to(device)\n",
        "    labels = labels.to(device)\n",
        "\n",
        "    optimizer.zero_grad() # reset gradients for new batch\n",
        "    output = model(images) # forward pass\n",
        "    loss = loss_func(output,labels) # calculate loss\n",
        "    loss.backward() #backward pass\n",
        "    optimizer.step() # update weights\n",
        "\n",
        "    batch_loss += loss.item() # update batch loss\n",
        "\n",
        "  print(f'Epoch: {epoch}/{total_epochs} - Training Loss: {batch_loss/len(trainLoader)} - ',end=' ')\n",
        "\n",
        "  with torch.no_grad(): # disable autograd\n",
        "    # Cross validation \n",
        "      test_loss = 0\n",
        "      correct_preds = 0\n",
        "      total_items = 0\n",
        "\n",
        "      for batch,val_sample in enumerate(valLoader,1):\n",
        "          images = val_sample['image']\n",
        "          labels = val_sample['class']\n",
        "          images = images.to(device) # loading to 'gpu' or 'cpu'\n",
        "          labels = labels.to(device) ## loading to 'gpu' or 'cpu'\n",
        "\n",
        "          # forward pass\n",
        "          output_withLog = model(images)\n",
        "\n",
        "          #loss\n",
        "          batch_loss = loss_func(output_withLog,labels)\n",
        "          test_loss += batch_loss.item()\n",
        "\n",
        "          #check prediction\n",
        "          output = torch.exp(output_withLog)\n",
        "          pred = torch.argmax(output,1)\n",
        "          total_items += labels.size(0)\n",
        "          correct_preds += (pred == labels).sum().item()\n",
        "\n",
        "      accuracy_tracker.append(correct_preds/total_items)\n",
        "      print(f\"Accuracy: {correct_preds/total_items}\",end='\\n')\n",
        "\n",
        "\n",
        "end_time = time.time()\n",
        "time_elapsed = end_time-start_time\n",
        "\n",
        "print(f\"Total_Epochs: {total_epochs}  - Accuracy: {correct_preds*100/total_items}%\")\n",
        "print(f'took {time_elapsed} seconds to train')"
      ],
      "execution_count": null,
      "outputs": []
    },
    {
      "cell_type": "code",
      "metadata": {
        "colab": {
          "base_uri": "https://localhost:8080/"
        },
        "id": "urYzG7f24Iyy",
        "outputId": "fc340d85-be05-4214-cac3-d1d39b51cb2d"
      },
      "source": [
        "len(accuracy_tracker)"
      ],
      "execution_count": 16,
      "outputs": [
        {
          "output_type": "execute_result",
          "data": {
            "text/plain": [
              "7"
            ]
          },
          "metadata": {
            "tags": []
          },
          "execution_count": 16
        }
      ]
    },
    {
      "cell_type": "markdown",
      "metadata": {
        "id": "YN2W1UuZukzH"
      },
      "source": [
        "# **My Results**"
      ]
    },
    {
      "cell_type": "code",
      "metadata": {
        "id": "HMsRGQMjrY1o"
      },
      "source": [
        "# 30 epochs on full Model (All layers unfrozen)\n",
        "  # Accuracy = 15.58% :   Time: 559.05 Seconds\n",
        "%matplotlib inline\n",
        "plt.plot(accuracy_tracker,label=\"Accuracy\")\n",
        "plt.legend"
      ],
      "execution_count": null,
      "outputs": []
    },
    {
      "cell_type": "code",
      "metadata": {
        "id": "7b6n79hmuY7W"
      },
      "source": [
        "# Initial Layers frozen for 10 epochs, Unfrozen All model for 20 epochs\n",
        "%matplotlib inline\n",
        "plt.plot(accuracy_tracker,label=\"Accuracy\")\n",
        "plt.legend  "
      ],
      "execution_count": null,
      "outputs": []
    },
    {
      "cell_type": "code",
      "metadata": {
        "colab": {
          "base_uri": "https://localhost:8080/",
          "height": 282
        },
        "id": "0jPSYVM1QiPJ",
        "outputId": "b5d5ae86-2e2e-4803-8aa9-d4d4e916fdd0"
      },
      "source": [
        "# Initial Layers frozen for 10 epochs, Unfrozen 10 for epochs\n",
        "  # Accuracy = 76.76% :   Time:   96 Sec\n",
        "%matplotlib inline\n",
        "plt.plot(accuracy_tracker,label=\"Accuracy\")\n",
        "plt.legend  "
      ],
      "execution_count": 19,
      "outputs": [
        {
          "output_type": "execute_result",
          "data": {
            "text/plain": [
              "<function matplotlib.pyplot.legend>"
            ]
          },
          "metadata": {
            "tags": []
          },
          "execution_count": 19
        },
        {
          "output_type": "display_data",
          "data": {
            "image/png": "[encoded data removed]",
            "text/plain": [
              "<Figure size 432x288 with 1 Axes>"
            ]
          },
          "metadata": {
            "tags": [],
            "needs_background": "light"
          }
        }
      ]
    },
    {
      "cell_type": "markdown",
      "metadata": {
        "id": "BNsZR9N_ZrNp"
      },
      "source": [
        "# **Inference**"
      ]
    },
    {
      "cell_type": "code",
      "metadata": {
        "id": "NzqFcSNJ9yI7"
      },
      "source": [
        "model.to('cpu')\n",
        "model.eval()\n",
        "with torch.no_grad():\n",
        "  sample = next(iter(testLoader))\n",
        "  testImages = sample['image']\n",
        "  testLabels = sample['class']\n",
        "  output_withLog = model(testImages)\n",
        "  output = torch.exp(output_withLog) #anti log\n",
        "  pred = torch.argmax(output,1) # get highest probablity class (%)\n",
        "\n",
        "  print(f\"First output probability distribution {output[0]}, highest probablity calss {pred[0]} from distribution & total predictions {len(pred)}\")\n",
        "model = model.train()"
      ],
      "execution_count": null,
      "outputs": []
    },
    {
      "cell_type": "code",
      "metadata": {
        "id": "HGYMscVXe1F6"
      },
      "source": [
        "# display image with class\n",
        "\n",
        "def denormalize(tensor):\n",
        "  return tensor*std + mean\n",
        "\n",
        "def show_img(img):\n",
        "  img = img.numpy().transpose((1,2,0)) # converting tensor(3,224,224) to (224,224,3)\n",
        "  # print(img.shape,type(img))\n",
        "  img = denormalize(img)\n",
        "  img = np.clip(img,0,1)\n",
        "  plt.imshow(img)\n",
        "\n",
        "\n",
        "test_img_id = 6\n",
        "show_img(testImages[test_img_id])\n",
        "print(pred[test_img_id])\n"
      ],
      "execution_count": null,
      "outputs": []
    },
    {
      "cell_type": "code",
      "metadata": {
        "id": "6cco5vGRdC8B"
      },
      "source": [
        "pred == testLabels"
      ],
      "execution_count": null,
      "outputs": []
    },
    {
      "cell_type": "markdown",
      "metadata": {
        "id": "O8yove4cIZQr"
      },
      "source": [
        "# **Playground**"
      ]
    },
    {
      "cell_type": "code",
      "metadata": {
        "id": "m60Yd7lS8Kd8"
      },
      "source": [
        "plt.figure()\n",
        "for i in range(len(dataset)):\n",
        "    sample = dataset[i]\n",
        "\n",
        "    print(i, sample['image'].shape, sample['class'].shape)\n",
        "\n",
        "    ax = plt.subplot(1, 4, i + 1)\n",
        "    plt.tight_layout()\n",
        "    ax.set_title('Sample #{}'.format(i))\n",
        "    ax.axis('off')\n",
        "    x = sample['image'].numpy()# convert to numpy img\n",
        "    plt.imshow(x[1]) # just show 1 channel of image, because its in shape 3,224,224\n",
        "\n",
        "    if i == 3:\n",
        "        plt.show()\n",
        "        break"
      ],
      "execution_count": null,
      "outputs": []
    },
    {
      "cell_type": "code",
      "metadata": {
        "id": "WFzaEvipES8y"
      },
      "source": [
        ""
      ],
      "execution_count": null,
      "outputs": []
    },
    {
      "cell_type": "code",
      "metadata": {
        "id": "hsJsbhB3AQNj"
      },
      "source": [
        "t = torch.tensor(4,4,2)"
      ],
      "execution_count": null,
      "outputs": []
    },
    {
      "cell_type": "code",
      "metadata": {
        "id": "WPHNxiOZ_hCu"
      },
      "source": [
        "t"
      ],
      "execution_count": null,
      "outputs": []
    },
    {
      "cell_type": "code",
      "metadata": {
        "id": "EtkhUdJM4U11"
      },
      "source": [
        "df = pd.read_csv('/content/oxford-102-flowers/train.txt',sep=\" \", header=None)\n",
        "df.columns = [\"imgPath\", \"id\"]"
      ],
      "execution_count": null,
      "outputs": []
    },
    {
      "cell_type": "code",
      "metadata": {
        "id": "u5dk9Lsj5EQY"
      },
      "source": [
        "df.shape"
      ],
      "execution_count": null,
      "outputs": []
    },
    {
      "cell_type": "code",
      "metadata": {
        "id": "Qa0Fml3V49Qq"
      },
      "source": [
        "df.head()"
      ],
      "execution_count": null,
      "outputs": []
    },
    {
      "cell_type": "code",
      "metadata": {
        "id": "ZdlUbU6EE1Et"
      },
      "source": [
        "#shape of batch\n",
        "batch_of_data = next(iter(trainLoader))\n",
        "batch_of_data['image'].shape,batch_of_data['class'].shape"
      ],
      "execution_count": null,
      "outputs": []
    }
  ]
}